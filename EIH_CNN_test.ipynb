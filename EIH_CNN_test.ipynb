{
 "cells": [
  {
   "cell_type": "markdown",
   "metadata": {
    "_cell_guid": "eb88b372-a6e5-40c8-a1c6-c03799165490",
    "_uuid": "e9aff3cf1bb8daa73bec67b970d12195677679f3"
   },
   "source": [
    "# 1. Introduction\n",
    "\n",
    "This Notebook follows three main parts:\n",
    "\n",
    "* The data preparation\n",
    "* The CNN modeling and evaluation\n",
    "* The results prediction and submission\n"
   ]
  },
  {
   "cell_type": "code",
   "execution_count": 12,
   "metadata": {
    "_cell_guid": "f67b9393-8ea1-4e23-b856-2ce149cfe421",
    "_execution_state": "idle",
    "_uuid": "72334cb006d02a4bcfc2a2fe622524eba824c6f8",
    "collapsed": true
   },
   "outputs": [],
   "source": [
    "import pandas as pd\n",
    "import numpy as np\n",
    "import matplotlib.pyplot as plt\n",
    "import matplotlib.image as mpimg\n",
    "import seaborn as sns\n",
    "%matplotlib inline\n",
    "\n",
    "np.random.seed(2)\n",
    "from sklearn.metrics import confusion_matrix\n",
    "from sklearn.metrics import ConfusionMatrixDisplay\n",
    "\n",
    "from sklearn.model_selection import train_test_split\n",
    "from sklearn.metrics import confusion_matrix\n",
    "import itertools\n",
    "\n",
    "\n",
    "from keras.models import Sequential\n",
    "from keras.layers import Dense, Dropout, Flatten, Conv2D, MaxPool2D\n",
    "from keras.optimizers import RMSprop\n",
    "from tensorflow.keras.preprocessing.image import ImageDataGenerator\n",
    "from tensorflow.keras.layers import Conv1D, MaxPooling1D, Flatten, Dense\n",
    "from keras.callbacks import ReduceLROnPlateau\n",
    "from statsmodels.robust.scale import huber\n",
    "import glob\n",
    "import os\n",
    "import pandas as pd\n",
    "os.environ['KERAS_BACKEND']='tensorflow'\n",
    "from keras.utils import to_categorical\n",
    "# from keras.utils.np_utils import to_categorical # convert to one-hot-encoding\n",
    "sns.set(style='white', context='notebook', palette='deep')"
   ]
  },
  {
   "cell_type": "markdown",
   "metadata": {},
   "source": [
    "### The code is set to sort .txt file into a 0 \"nagative\" or 1 \"positive\" based on file name \"Human\" this can be changed to recognize any word you put into the file name to identify the positive and negative classes but all the files must be located at this path"
   ]
  },
  {
   "cell_type": "code",
   "execution_count": 43,
   "metadata": {},
   "outputs": [
    {
     "name": "stdout",
     "output_type": "stream",
     "text": [
      "(2047,) (13, 2047) (13, 1)\n"
     ]
    }
   ],
   "source": [
    "def process_text_files(folder_path):\n",
    "    data = []\n",
    "    label_array = []\n",
    "    header = None\n",
    "    first_file = True\n",
    "    for file_name in os.listdir(folder_path):\n",
    "        if file_name.endswith('.txt'):\n",
    "            with open(os.path.join(folder_path, file_name), 'r') as file:\n",
    "                new_row = pd.read_csv(file, sep='\\t', header=None, skiprows=13)\n",
    "                new_row = new_row.iloc[1:, :] \n",
    "                if first_file:  # Read header from the first file\n",
    "                    header = new_row[0]\n",
    "                    first_file = False\n",
    "                new_row=new_row[1] \n",
    "                if 'Human' in file_name:\n",
    "                    label_array.append(1)\n",
    "                else:\n",
    "                    label_array.append(0)\n",
    "                row_float = []\n",
    "                row_float = [float(value) for value in new_row]  \n",
    "                data.append(row_float)\n",
    "                \n",
    "    label_array = np.array(label_array).reshape(-1, 1)  # Reshape to column vector\n",
    "    data = np.array(data)  # Convert data to NumPy array\n",
    "    return data, label_array, header\n",
    "\n",
    "folder_path = 'C:\\\\Users\\\\heather\\\\Desktop\\\\Stool Data'\n",
    "\n",
    "file_data, label_array, header = process_text_files(folder_path)\n",
    "print(header.shape, file_data.shape, label_array.shape)\n",
    "# Add the label column to the data array\n",
    "data_with_labels = np.hstack((label_array, file_data))\n",
    "# Generate column names for the DataFrame\n",
    "columns = np.append('label',header)\n",
    "\n",
    "df = pd.DataFrame(data_with_labels, dtype=float, columns=columns)"
   ]
  },
  {
   "cell_type": "code",
   "execution_count": 44,
   "metadata": {},
   "outputs": [
    {
     "data": {
      "text/html": [
       "<div>\n",
       "<style scoped>\n",
       "    .dataframe tbody tr th:only-of-type {\n",
       "        vertical-align: middle;\n",
       "    }\n",
       "\n",
       "    .dataframe tbody tr th {\n",
       "        vertical-align: top;\n",
       "    }\n",
       "\n",
       "    .dataframe thead th {\n",
       "        text-align: right;\n",
       "    }\n",
       "</style>\n",
       "<table border=\"1\" class=\"dataframe\">\n",
       "  <thead>\n",
       "    <tr style=\"text-align: right;\">\n",
       "      <th></th>\n",
       "      <th>label</th>\n",
       "      <th>339.706</th>\n",
       "      <th>340.089</th>\n",
       "      <th>340.472</th>\n",
       "      <th>340.854</th>\n",
       "      <th>341.237</th>\n",
       "      <th>341.619</th>\n",
       "      <th>342.002</th>\n",
       "      <th>342.384</th>\n",
       "      <th>342.766</th>\n",
       "      <th>...</th>\n",
       "      <th>1025.175</th>\n",
       "      <th>1025.46</th>\n",
       "      <th>1025.745</th>\n",
       "      <th>1026.03</th>\n",
       "      <th>1026.315</th>\n",
       "      <th>1026.6</th>\n",
       "      <th>1026.885</th>\n",
       "      <th>1027.17</th>\n",
       "      <th>1027.455</th>\n",
       "      <th>1027.74</th>\n",
       "    </tr>\n",
       "  </thead>\n",
       "  <tbody>\n",
       "    <tr>\n",
       "      <th>0</th>\n",
       "      <td>0.0</td>\n",
       "      <td>-16.67</td>\n",
       "      <td>87.5</td>\n",
       "      <td>-75.0</td>\n",
       "      <td>175.00</td>\n",
       "      <td>-50.00</td>\n",
       "      <td>30.0</td>\n",
       "      <td>0.00</td>\n",
       "      <td>0.0</td>\n",
       "      <td>50.00</td>\n",
       "      <td>...</td>\n",
       "      <td>37.50</td>\n",
       "      <td>18.75</td>\n",
       "      <td>13.64</td>\n",
       "      <td>4.55</td>\n",
       "      <td>16.67</td>\n",
       "      <td>16.67</td>\n",
       "      <td>16.67</td>\n",
       "      <td>50.00</td>\n",
       "      <td>-50.00</td>\n",
       "      <td>55.00</td>\n",
       "    </tr>\n",
       "    <tr>\n",
       "      <th>1</th>\n",
       "      <td>0.0</td>\n",
       "      <td>-47.06</td>\n",
       "      <td>2600.0</td>\n",
       "      <td>2600.0</td>\n",
       "      <td>-22.86</td>\n",
       "      <td>-47.06</td>\n",
       "      <td>800.0</td>\n",
       "      <td>-52.63</td>\n",
       "      <td>800.0</td>\n",
       "      <td>58.82</td>\n",
       "      <td>...</td>\n",
       "      <td>44.76</td>\n",
       "      <td>32.17</td>\n",
       "      <td>42.99</td>\n",
       "      <td>31.46</td>\n",
       "      <td>31.46</td>\n",
       "      <td>51.69</td>\n",
       "      <td>51.69</td>\n",
       "      <td>90.14</td>\n",
       "      <td>71.91</td>\n",
       "      <td>64.79</td>\n",
       "    </tr>\n",
       "    <tr>\n",
       "      <th>2</th>\n",
       "      <td>0.0</td>\n",
       "      <td>411.76</td>\n",
       "      <td>-5200.0</td>\n",
       "      <td>-5200.0</td>\n",
       "      <td>148.57</td>\n",
       "      <td>200.00</td>\n",
       "      <td>-1600.0</td>\n",
       "      <td>10.53</td>\n",
       "      <td>2000.0</td>\n",
       "      <td>-117.65</td>\n",
       "      <td>...</td>\n",
       "      <td>-13.99</td>\n",
       "      <td>-26.57</td>\n",
       "      <td>-52.34</td>\n",
       "      <td>-83.15</td>\n",
       "      <td>-62.92</td>\n",
       "      <td>-42.70</td>\n",
       "      <td>-62.92</td>\n",
       "      <td>-53.52</td>\n",
       "      <td>-42.70</td>\n",
       "      <td>-28.17</td>\n",
       "    </tr>\n",
       "    <tr>\n",
       "      <th>3</th>\n",
       "      <td>0.0</td>\n",
       "      <td>-11.76</td>\n",
       "      <td>2000.0</td>\n",
       "      <td>200.0</td>\n",
       "      <td>-5.71</td>\n",
       "      <td>-11.76</td>\n",
       "      <td>200.0</td>\n",
       "      <td>-84.21</td>\n",
       "      <td>-1600.0</td>\n",
       "      <td>94.12</td>\n",
       "      <td>...</td>\n",
       "      <td>36.36</td>\n",
       "      <td>23.78</td>\n",
       "      <td>31.78</td>\n",
       "      <td>17.98</td>\n",
       "      <td>17.98</td>\n",
       "      <td>38.20</td>\n",
       "      <td>38.20</td>\n",
       "      <td>47.89</td>\n",
       "      <td>58.43</td>\n",
       "      <td>47.89</td>\n",
       "    </tr>\n",
       "    <tr>\n",
       "      <th>4</th>\n",
       "      <td>0.0</td>\n",
       "      <td>411.76</td>\n",
       "      <td>-5200.0</td>\n",
       "      <td>-5200.0</td>\n",
       "      <td>148.57</td>\n",
       "      <td>200.00</td>\n",
       "      <td>-1600.0</td>\n",
       "      <td>10.53</td>\n",
       "      <td>2000.0</td>\n",
       "      <td>-117.65</td>\n",
       "      <td>...</td>\n",
       "      <td>-1.40</td>\n",
       "      <td>-13.99</td>\n",
       "      <td>-35.51</td>\n",
       "      <td>-62.92</td>\n",
       "      <td>-42.70</td>\n",
       "      <td>-22.47</td>\n",
       "      <td>-22.47</td>\n",
       "      <td>-53.52</td>\n",
       "      <td>-22.47</td>\n",
       "      <td>-28.17</td>\n",
       "    </tr>\n",
       "  </tbody>\n",
       "</table>\n",
       "<p>5 rows × 2048 columns</p>\n",
       "</div>"
      ],
      "text/plain": [
       "   label  339.706  340.089  340.472  340.854  341.237  341.619  342.002  \\\n",
       "0    0.0   -16.67     87.5    -75.0   175.00   -50.00     30.0     0.00   \n",
       "1    0.0   -47.06   2600.0   2600.0   -22.86   -47.06    800.0   -52.63   \n",
       "2    0.0   411.76  -5200.0  -5200.0   148.57   200.00  -1600.0    10.53   \n",
       "3    0.0   -11.76   2000.0    200.0    -5.71   -11.76    200.0   -84.21   \n",
       "4    0.0   411.76  -5200.0  -5200.0   148.57   200.00  -1600.0    10.53   \n",
       "\n",
       "   342.384  342.766  ...  1025.175  1025.46  1025.745  1026.03  1026.315  \\\n",
       "0      0.0    50.00  ...     37.50    18.75     13.64     4.55     16.67   \n",
       "1    800.0    58.82  ...     44.76    32.17     42.99    31.46     31.46   \n",
       "2   2000.0  -117.65  ...    -13.99   -26.57    -52.34   -83.15    -62.92   \n",
       "3  -1600.0    94.12  ...     36.36    23.78     31.78    17.98     17.98   \n",
       "4   2000.0  -117.65  ...     -1.40   -13.99    -35.51   -62.92    -42.70   \n",
       "\n",
       "   1026.6  1026.885  1027.17  1027.455  1027.74  \n",
       "0   16.67     16.67    50.00    -50.00    55.00  \n",
       "1   51.69     51.69    90.14     71.91    64.79  \n",
       "2  -42.70    -62.92   -53.52    -42.70   -28.17  \n",
       "3   38.20     38.20    47.89     58.43    47.89  \n",
       "4  -22.47    -22.47   -53.52    -22.47   -28.17  \n",
       "\n",
       "[5 rows x 2048 columns]"
      ]
     },
     "execution_count": 44,
     "metadata": {},
     "output_type": "execute_result"
    }
   ],
   "source": [
    "df.head()"
   ]
  },
  {
   "cell_type": "code",
   "execution_count": 48,
   "metadata": {},
   "outputs": [
    {
     "data": {
      "image/png": "[encoded data removed]",
      "text/plain": [
       "<Figure size 640x480 with 1 Axes>"
      ]
     },
     "metadata": {},
     "output_type": "display_data"
    }
   ],
   "source": [
    "def norm_func(x):\n",
    "    x=pd.DataFrame(x)\n",
    "    for row_index in range(len(x)):\n",
    "        Hmean, Hstd = huber(x.iloc[row_index, :])\n",
    "        HCentered = x.iloc[row_index, :] - Hmean\n",
    "        Hnorm = HCentered / Hstd\n",
    "        x.iloc[row_index, :] = Hnorm\n",
    "    x.to_numpy()\n",
    "    return x\n",
    "\n",
    "wavelengths=df.columns.values[1:].astype(float)\n",
    "\n",
    "X=df.loc[:, df.columns != 'label'] # selects all but the class label\n",
    "X= norm_func(X)\n",
    "\n",
    "Y=df.loc[:, df.columns == 'label'] \n",
    "\n",
    "indices_Y_equals_1 = np.where(Y['label'] == 1)[0]\n",
    "indices_Y_equals_0=np.where(Y['label'] == 0)[0]\n",
    "\n",
    "# Plotting based on Y=1\n",
    "plt.plot(wavelengths,pd.DataFrame(X.iloc[indices_Y_equals_1[0]]), label='Class Negative')\n",
    "plt.plot(wavelengths, pd.DataFrame(X.iloc[indices_Y_equals_0[0]]), label='Class Positive')\n",
    "plt.xlabel('Wavelength (nm)')\n",
    "plt.ylabel(' Normalized reflectance')\n",
    "plt.legend()\n",
    "plt.show()\n"
   ]
  },
  {
   "cell_type": "markdown",
   "metadata": {
    "_cell_guid": "6d2fb3e6-ab71-4974-b5a2-4af1ebdb99f4",
    "_execution_state": "idle",
    "_uuid": "86061d98eccaa02efe0dab0fa3884e71fcf4c310"
   },
   "source": [
    "# 2. Data preparation\n",
    "## 2.1 Split"
   ]
  },
  {
   "cell_type": "code",
   "execution_count": 49,
   "metadata": {
    "_cell_guid": "5e51d00e-62fd-4141-bf73-50ac4f2da7d0",
    "_execution_state": "idle",
    "_uuid": "84bbd5ab8d7895bd430d5ecfe2f7ddf77baa7b74",
    "collapsed": true
   },
   "outputs": [],
   "source": [
    "# Spliting into test and training sets\n",
    "from sklearn.model_selection import train_test_split\n",
    "\n",
    "X_train, X_test, y_train, y_test=train_test_split(X,Y, test_size=0.3, random_state = 0)"
   ]
  },
  {
   "cell_type": "code",
   "execution_count": 50,
   "metadata": {
    "_cell_guid": "86570a36-5c20-460a-9dfd-2070548532a7",
    "_execution_state": "idle",
    "_uuid": "1213b979d5ed3e0d13824d17d694c79d2ece92fa",
    "collapsed": true
   },
   "outputs": [
    {
     "data": {
      "text/plain": [
       "label\n",
       "1.0      5\n",
       "0.0      4\n",
       "Name: count, dtype: int64"
      ]
     },
     "execution_count": 50,
     "metadata": {},
     "output_type": "execute_result"
    }
   ],
   "source": [
    "# classification ratio if about 1:1 we dont need to adjust if not 50% 50% we need to rebalance the minority class\n",
    "y_train.value_counts()\n",
    "# y_test.value_counts()"
   ]
  },
  {
   "cell_type": "markdown",
   "metadata": {
    "_cell_guid": "5b7d4b66-a140-4fcc-a889-bcef007c880a",
    "_uuid": "5d77934302869925c19128c77e247b3c8ca84d71"
   },
   "source": [
    "## 2.2 Check for null and missing values"
   ]
  },
  {
   "cell_type": "code",
   "execution_count": 51,
   "metadata": {
    "_cell_guid": "ececaa00-2ae3-4d13-b631-438df085b030",
    "_execution_state": "idle",
    "_uuid": "cdf27c27e2a5b15e6d7bfc70de7a18c08f3feb7a",
    "collapsed": true
   },
   "outputs": [
    {
     "data": {
      "text/plain": [
       "count      2047\n",
       "unique        1\n",
       "top       False\n",
       "freq       2047\n",
       "dtype: object"
      ]
     },
     "execution_count": 51,
     "metadata": {},
     "output_type": "execute_result"
    }
   ],
   "source": [
    "# Check the data\n",
    "X_train.isnull().any().describe()"
   ]
  },
  {
   "cell_type": "code",
   "execution_count": 52,
   "metadata": {
    "_cell_guid": "92572e80-8543-4e72-8767-5c9be8381b04",
    "_execution_state": "idle",
    "_uuid": "a0089bb7ec9aec76373db475399aea24699ae989",
    "collapsed": true
   },
   "outputs": [
    {
     "data": {
      "text/plain": [
       "count         1\n",
       "unique        1\n",
       "top       False\n",
       "freq          1\n",
       "dtype: object"
      ]
     },
     "execution_count": 52,
     "metadata": {},
     "output_type": "execute_result"
    }
   ],
   "source": [
    "# top:False freq:1, indicates no null values which means we are okay to proceed\n",
    "y_test.isnull().any().describe()"
   ]
  },
  {
   "cell_type": "markdown",
   "metadata": {
    "_cell_guid": "09d04cae-4245-4659-85dd-ef48531da295",
    "_uuid": "c0bee59691c2df0b275c78e38e7f9907d02ac038"
   },
   "source": [
    "I check for corrupted images (missing values inside).\n",
    "\n",
    "There is no missing values in the train and test dataset. So we can safely go ahead."
   ]
  },
  {
   "cell_type": "markdown",
   "metadata": {
    "_cell_guid": "bdb422e2-bdec-444f-97a5-283a1e54bf2c",
    "_uuid": "39b7a31e843bac6b705461bcce89da216b91799e"
   },
   "source": [
    "## 2.3 Label encoding"
   ]
  },
  {
   "cell_type": "code",
   "execution_count": 54,
   "metadata": {
    "_cell_guid": "4b7f3e78-44dc-4561-b1f0-9429ee024cf4",
    "_execution_state": "idle",
    "_uuid": "cabefd1478d5c1bdfe57fd6a34395340916a854c",
    "collapsed": true
   },
   "outputs": [
    {
     "data": {
      "text/plain": [
       "label\n",
       "1.0      5\n",
       "0.0      4\n",
       "Name: count, dtype: int64"
      ]
     },
     "execution_count": 54,
     "metadata": {},
     "output_type": "execute_result"
    }
   ],
   "source": [
    "# Encode labels to one hot vectors (ex : 2 -> [0,0,1,0,0,0,0,0,0,0])\n",
    "# Set the random seed\n",
    "random_seed = 2\n",
    "# Y_train = to_categorical(y_train, num_classes = 2)\n",
    "pd.DataFrame(y_train).value_counts()"
   ]
  },
  {
   "cell_type": "markdown",
   "metadata": {
    "_cell_guid": "d5265777-aeb3-449d-b171-d88cad74c0a4",
    "_uuid": "5fa18b37a9acd9e098bac1d12264b0dd4310fdd3"
   },
   "source": [
    "# 3. CNN\n",
    "## 3.1 Define the model"
   ]
  },
  {
   "cell_type": "markdown",
   "metadata": {
    "_cell_guid": "504fa00e-148c-4364-9b68-218b3aaedfdb",
    "_uuid": "7697570491420f957f6e4d3569d51410b5277250"
   },
   "source": [
    "I used the Keras Sequential API, where you have just to add one layer at a time, starting from the input.\n",
    "\n",
    "The first is the convolutional (Conv2D) layer. It is like a set of learnable filters. I choosed to set 32 filters for the two firsts conv2D layers and 64 filters for the two last ones. Each filter transforms a part of the image (defined by the kernel size) using the kernel filter. The kernel filter matrix is applied on the whole image. Filters can be seen as a transformation of the image.\n",
    "\n",
    "The CNN can isolate features that are useful everywhere from these transformed images (feature maps).\n",
    "\n",
    "The second important layer in CNN is the pooling (MaxPool2D) layer. This layer simply acts as a downsampling filter. It looks at the 2 neighboring pixels and picks the maximal value. These are used to reduce computational cost, and to some extent also reduce overfitting. We have to choose the pooling size (i.e the area size pooled each time) more the pooling dimension is high, more the downsampling is important. \n",
    "\n",
    "Combining convolutional and pooling layers, CNN are able to combine local features and learn more global features of the image.\n",
    "\n",
    "Dropout is a regularization method, where a proportion of nodes in the layer are randomly ignored (setting their wieghts to zero) for each training sample. This drops randomly a propotion of the network and forces the network to learn features in a distributed way. This technique also improves generalization and reduces the overfitting. \n",
    "\n",
    "'relu' is the rectifier (activation function max(0,x). The rectifier activation function is used to add non linearity to the network. \n",
    "\n",
    "The Flatten layer is use to convert the final feature maps into a one single 1D vector. This flattening step is needed so that you can make use of fully connected layers after some convolutional/maxpool layers. It combines all the found local features of the previous convolutional layers.\n",
    "\n",
    "In the end i used the features in two fully-connected (Dense) layers which is just artificial an neural networks (ANN) classifier. In the last layer(Dense(10,activation=\"softmax\")) the net outputs distribution of probability of each class."
   ]
  },
  {
   "cell_type": "code",
   "execution_count": 76,
   "metadata": {
    "_cell_guid": "1e0f3f88-2ad7-459e-8e02-aecc5f3511ae",
    "_execution_state": "idle",
    "_uuid": "f7991ef6871a26f9fa57acdcd460a69bab53e804",
    "collapsed": true
   },
   "outputs": [],
   "source": [
    "# Set the CNN model \n",
    "\n",
    "# , input_shape=(2047, 1)\n",
    "from keras.layers import Input\n",
    "\n",
    "# Define input shape\n",
    "input_shape = (2047,1)\n",
    "\n",
    "# Create Sequential model\n",
    "model = Sequential()\n",
    "\n",
    "# Add Input layer with specified input shape\n",
    "model.add(Input(shape=input_shape))\n",
    "\n",
    "# Add Conv1D layer\n",
    "model.add(Conv1D(filters=64, kernel_size=3, activation='relu'))\n",
    "model.add(MaxPooling1D(pool_size=2))\n",
    "\n",
    "# Flatten the feature maps\n",
    "model.add(Flatten())\n",
    "model.add(Dropout(0.25))\n",
    "\n",
    "# Add fully connected layers\n",
    "model.add(Dense(128, activation='linear'))\n",
    "model.add(Dense(1, activation='sigmoid'))  # Output layer for binary classification"
   ]
  },
  {
   "cell_type": "markdown",
   "metadata": {
    "_cell_guid": "0e26b6a3-ef9d-4ae5-9d79-d5e4b073251a",
    "_uuid": "7065512cf892ba49f0c06e239e3a20ff13667ef2"
   },
   "source": [
    "## 3.2 Set the optimizer and annealer\n",
    "\n"
   ]
  },
  {
   "cell_type": "code",
   "execution_count": 77,
   "metadata": {
    "_cell_guid": "0bd89b79-1a74-40da-af9a-7a76a8b96ff2",
    "_execution_state": "idle",
    "_uuid": "b4c0288622227a3cd05479aa765e324dbb852f34",
    "collapsed": true
   },
   "outputs": [],
   "source": [
    "# Compile the model\n",
    "model.compile(optimizer='adam', loss='binary_crossentropy', metrics=['accuracy'])"
   ]
  },
  {
   "cell_type": "markdown",
   "metadata": {
    "_cell_guid": "6bc49be3-11e5-48fb-b70f-601aec0f0c86",
    "_uuid": "f4d89b29d55b328e8c446880505c54e674eeec38"
   },
   "source": [
    "<img src=\"http://img1.imagilive.com/0717/learningrates.jpg\"> </img>"
   ]
  },
  {
   "cell_type": "markdown",
   "metadata": {
    "_cell_guid": "35b826b6-c516-47d0-8469-f8d04a102118",
    "_uuid": "bb90d48f4426d1baeb0404f2431e04e3cade59df"
   },
   "source": [
    "In order to make the optimizer converge faster and closest to the global minimum of the loss function, i used an annealing method of the learning rate (LR).\n",
    "\n",
    "The LR is the step by which the optimizer walks through the 'loss landscape'. The higher LR, the bigger are the steps and the quicker is the convergence. However the sampling is very poor with an high LR and the optimizer could probably fall into a local minima.\n",
    "\n",
    "Its better to have a decreasing learning rate during the training to reach efficiently the global minimum of the loss function. \n",
    "\n",
    "To keep the advantage of the fast computation time with a high LR, i decreased the LR dynamically every X steps (epochs) depending if it is necessary (when accuracy is not improved).\n",
    "\n",
    "With the ReduceLROnPlateau function from Keras.callbacks, i choose to reduce the LR by half if the accuracy is not improved after 3 epochs."
   ]
  },
  {
   "cell_type": "code",
   "execution_count": 78,
   "metadata": {
    "_cell_guid": "b5987a18-6bbe-42a2-9d31-333ebc4f7af1",
    "_execution_state": "idle",
    "_uuid": "c4a5b4e462ec5362c47eef4fcc7956fd4e203307",
    "collapsed": true
   },
   "outputs": [],
   "source": [
    "# Set a learning rate annealer\n",
    "learning_rate_reduction = ReduceLROnPlateau(monitor='val_acc', \n",
    "                                            patience=3, \n",
    "                                            verbose=1, \n",
    "                                            factor=0.5, \n",
    "                                            min_lr=0.00001)"
   ]
  },
  {
   "cell_type": "code",
   "execution_count": 79,
   "metadata": {
    "_cell_guid": "970db455-b393-4b25-806d-92c6766c12c0",
    "_execution_state": "idle",
    "_uuid": "26b0647c46efdb6b1096cf7335a7bf2a3417543a",
    "collapsed": true
   },
   "outputs": [],
   "source": [
    "epochs = 20 # More epochs increases accuracy\n",
    "batch_size = 86"
   ]
  },
  {
   "cell_type": "code",
   "execution_count": 80,
   "metadata": {},
   "outputs": [
    {
     "name": "stdout",
     "output_type": "stream",
     "text": [
      "(9, 2047) (9, 1)\n",
      "(4, 2047) (4, 1)\n"
     ]
    }
   ],
   "source": [
    "# Convert data to numpy arrays if they are not already\n",
    "X_train = np.array(X_train)\n",
    "y_train = np.array(y_train)\n",
    "X_test = np.array(X_test)\n",
    "y_test = np.array(y_test)\n",
    "\n",
    "# Verify data shape and labels\n",
    "print(X_train.shape, y_train.shape)\n",
    "print(X_test.shape, y_test.shape)"
   ]
  },
  {
   "cell_type": "markdown",
   "metadata": {
    "_cell_guid": "241a0f4f-13f5-4b13-be1e-4e3e4a714c06",
    "_uuid": "f24df64b223e0177c94025b6767ab19b722c5386"
   },
   "source": [
    "## 3.3 Data augmentation "
   ]
  },
  {
   "cell_type": "markdown",
   "metadata": {
    "_cell_guid": "e2d41e30-0724-40fb-a901-750e514ba9f9",
    "_uuid": "9e498b91419439f0fa791e595f202d9a0d56ad6b"
   },
   "source": [
    "In order to avoid overfitting problem, we need to expand artificially our handwritten digit dataset. We can make your existing dataset even larger. The idea is to alter the training data with small transformations to reproduce the variations occuring when someone is writing a digit.\n",
    "\n",
    "For example, the number is not centered \n",
    "The scale is not the same (some who write with big/small numbers)\n",
    "The image is rotated...\n",
    "\n",
    "Approaches that alter the training data in ways that change the array representation while keeping the label the same are known as data augmentation techniques. Some popular augmentations people use are grayscales, horizontal flips, vertical flips, random crops, color jitters, translations, rotations, and much more. \n",
    "\n",
    "By applying just a couple of these transformations to our training data, we can easily double or triple the number of training examples and create a very robust model.\n",
    "\n",
    "The improvement is important : \n",
    "   - Without data augmentation i obtained an accuracy of 98.114%\n",
    "   - With data augmentation i achieved 99.67% of accuracy"
   ]
  },
  {
   "cell_type": "code",
   "execution_count": 83,
   "metadata": {
    "_cell_guid": "ade93d2d-90c6-4401-af95-f7d65f8c0a20",
    "_execution_state": "idle",
    "_uuid": "d4e9e1ade3c04f9ca4d8cd44e799f9e09524d5a1",
    "collapsed": true
   },
   "outputs": [
    {
     "name": "stdout",
     "output_type": "stream",
     "text": [
      "Epoch 1/20\n",
      "1/1 - 1s - 1s/step - accuracy: 0.4444 - loss: 1.7298 - val_accuracy: 0.5000 - val_loss: 0.9852\n",
      "Epoch 2/20\n",
      "1/1 - 0s - 141ms/step - accuracy: 0.6667 - loss: 0.9253 - val_accuracy: 1.0000 - val_loss: 1.5307e-16\n",
      "Epoch 3/20\n",
      "1/1 - 0s - 136ms/step - accuracy: 0.8889 - loss: 3.1789 - val_accuracy: 1.0000 - val_loss: 1.1304e-23\n",
      "Epoch 4/20\n",
      "1/1 - 0s - 178ms/step - accuracy: 0.8889 - loss: 4.5288 - val_accuracy: 1.0000 - val_loss: 2.3611e-25\n",
      "Epoch 5/20\n",
      "1/1 - 0s - 136ms/step - accuracy: 0.8889 - loss: 4.3424 - val_accuracy: 1.0000 - val_loss: 1.6284e-23\n",
      "Epoch 6/20\n",
      "1/1 - 0s - 139ms/step - accuracy: 0.8889 - loss: 3.3627 - val_accuracy: 1.0000 - val_loss: 2.9396e-19\n",
      "Epoch 7/20\n",
      "1/1 - 0s - 138ms/step - accuracy: 0.8889 - loss: 1.5473 - val_accuracy: 1.0000 - val_loss: 2.4389e-13\n",
      "Epoch 8/20\n",
      "1/1 - 0s - 145ms/step - accuracy: 1.0000 - loss: 0.0025 - val_accuracy: 1.0000 - val_loss: 2.9270e-08\n",
      "Epoch 9/20\n",
      "1/1 - 0s - 137ms/step - accuracy: 1.0000 - loss: 1.2769e-07 - val_accuracy: 1.0000 - val_loss: 6.7004e-04\n",
      "Epoch 10/20\n",
      "1/1 - 0s - 136ms/step - accuracy: 1.0000 - loss: 0.0042 - val_accuracy: 0.5000 - val_loss: 0.9601\n",
      "Epoch 11/20\n",
      "1/1 - 0s - 135ms/step - accuracy: 0.6667 - loss: 1.1781 - val_accuracy: 1.0000 - val_loss: 0.0132\n",
      "Epoch 12/20\n",
      "1/1 - 0s - 142ms/step - accuracy: 1.0000 - loss: 0.0035 - val_accuracy: 1.0000 - val_loss: 9.6575e-05\n",
      "Epoch 13/20\n",
      "1/1 - 0s - 138ms/step - accuracy: 1.0000 - loss: 7.7214e-05 - val_accuracy: 1.0000 - val_loss: 1.2641e-06\n",
      "Epoch 14/20\n",
      "1/1 - 0s - 138ms/step - accuracy: 1.0000 - loss: 1.7678e-06 - val_accuracy: 1.0000 - val_loss: 2.7508e-08\n",
      "Epoch 15/20\n",
      "1/1 - 0s - 137ms/step - accuracy: 1.0000 - loss: 1.0699e-08 - val_accuracy: 1.0000 - val_loss: 9.2426e-10\n",
      "Epoch 16/20\n",
      "1/1 - 0s - 140ms/step - accuracy: 1.0000 - loss: 3.9356e-10 - val_accuracy: 1.0000 - val_loss: 4.5198e-11\n",
      "Epoch 17/20\n",
      "1/1 - 0s - 134ms/step - accuracy: 1.0000 - loss: 1.0016e-11 - val_accuracy: 1.0000 - val_loss: 3.0615e-12\n",
      "Epoch 18/20\n",
      "1/1 - 0s - 140ms/step - accuracy: 1.0000 - loss: 5.4271e-13 - val_accuracy: 1.0000 - val_loss: 2.7561e-13\n",
      "Epoch 19/20\n",
      "1/1 - 0s - 135ms/step - accuracy: 1.0000 - loss: 2.9342e-14 - val_accuracy: 1.0000 - val_loss: 3.1866e-14\n",
      "Epoch 20/20\n",
      "1/1 - 0s - 143ms/step - accuracy: 1.0000 - loss: 3.4271e-14 - val_accuracy: 1.0000 - val_loss: 4.5936e-15\n"
     ]
    }
   ],
   "source": [
    "np.random.seed(2)\n",
    "\n",
    "history = model.fit(X_train, y_train, batch_size = batch_size, epochs = epochs, \n",
    "validation_data = (X_test, y_test), verbose = 2)"
   ]
  },
  {
   "cell_type": "markdown",
   "metadata": {
    "_cell_guid": "22f80b8a-d4f6-4a34-b33d-ff7334f45d94",
    "_uuid": "51f16d0a5b9d9373438474e7defa7348359d7c18"
   },
   "source": [
    "For the data augmentation, i choosed to :\n",
    "   - Randomly rotate some training images by 10 degrees\n",
    "   - Randomly  Zoom by 10% some training images\n",
    "   - Randomly shift images horizontally by 10% of the width\n",
    "   - Randomly shift images vertically by 10% of the height\n",
    "   \n",
    "I did not apply a vertical_flip nor horizontal_flip since it could have lead to misclassify symetrical numbers such as 6 and 9.\n",
    "\n",
    "Once our model is ready, we fit the training dataset ."
   ]
  },
  {
   "cell_type": "code",
   "execution_count": 84,
   "metadata": {
    "_cell_guid": "b453af8d-9736-43e3-b486-7a1cd7dd8909",
    "_execution_state": "idle",
    "_uuid": "cf36b3d029f95b553be02d612e097a9769ee8252",
    "collapsed": true
   },
   "outputs": [
    {
     "name": "stdout",
     "output_type": "stream",
     "text": [
      "\u001b[1m1/1\u001b[0m \u001b[32m━━━━━━━━━━━━━━━━━━━━\u001b[0m\u001b[37m\u001b[0m \u001b[1m0s\u001b[0m 61ms/step\n"
     ]
    },
    {
     "data": {
      "text/plain": [
       "array([1.], dtype=float32)"
      ]
     },
     "execution_count": 84,
     "metadata": {},
     "output_type": "execute_result"
    }
   ],
   "source": [
    "# Fit the model\n",
    "pred = model.predict(X_test)\n",
    "pred[1]"
   ]
  },
  {
   "cell_type": "markdown",
   "metadata": {
    "_cell_guid": "e758621d-b27b-40ff-a93f-bebd2e0e5243",
    "_uuid": "0a1834f2a9f2db15dcaba4a84004b9627d714469"
   },
   "source": [
    "# 4. Evaluate the model\n",
    "## 4.1 Training and validation curves"
   ]
  },
  {
   "cell_type": "code",
   "execution_count": 85,
   "metadata": {
    "_cell_guid": "eb4b1b73-cbd4-40e8-9790-066fcef4c4c0",
    "_execution_state": "idle",
    "_uuid": "3a831860dd5bb65c8ead1ddcf4ae18ae20dd7f3e",
    "collapsed": true
   },
   "outputs": [
    {
     "data": {
      "text/plain": [
       "Text(0, 0.5, 'Loss value')"
      ]
     },
     "execution_count": 85,
     "metadata": {},
     "output_type": "execute_result"
    },
    {
     "data": {
      "image/png": "[encoded data removed]",
      "text/plain": [
       "<Figure size 640x480 with 1 Axes>"
      ]
     },
     "metadata": {},
     "output_type": "display_data"
    }
   ],
   "source": [
    "# Plot the loss and accuracy curves for training and validation \n",
    "fig, ax = plt.subplots()\n",
    "ax.plot(history.history['loss'], color='b', label=\"Training loss\")\n",
    "ax.plot(history.history['val_loss'], color='r', label=\"Validation loss\")\n",
    "legend = ax.legend(loc='best', shadow=True)\n",
    "plt.xlabel('Epics')\n",
    "plt.ylabel('Loss value')\n"
   ]
  },
  {
   "cell_type": "markdown",
   "metadata": {
    "_cell_guid": "de1c65bd-4a88-4351-9f4b-562e72e7e0fd",
    "_uuid": "63698d7d51381b33892ce164b0f21930abb3e937"
   },
   "source": [
    "## 4.2 Confusion matrix"
   ]
  },
  {
   "cell_type": "markdown",
   "metadata": {
    "_cell_guid": "5688faa0-b33b-4e92-b125-7fa0b37e7df3",
    "_uuid": "3306d29b732341663e50866140dc569360701a81"
   },
   "source": [
    "Confusion matrix can be very helpfull to see your model drawbacks.\n",
    "\n",
    "I plot the confusion matrix of the validation results."
   ]
  },
  {
   "cell_type": "code",
   "execution_count": 88,
   "metadata": {
    "_cell_guid": "11361e73-8250-4bf5-a353-b0f8ea83e659",
    "_execution_state": "idle",
    "_uuid": "16e161179bf1b51ba66c39b2cead883f1db3a9c7",
    "collapsed": true
   },
   "outputs": [
    {
     "name": "stdout",
     "output_type": "stream",
     "text": [
      "\u001b[1m1/1\u001b[0m \u001b[32m━━━━━━━━━━━━━━━━━━━━\u001b[0m\u001b[37m\u001b[0m \u001b[1m0s\u001b[0m 27ms/step\n",
      "Predicted probabilities: [[1.]\n",
      " [1.]\n",
      " [0.]\n",
      " [1.]]\n",
      "Predicted classes: [[1]\n",
      " [1]\n",
      " [0]\n",
      " [1]]\n"
     ]
    },
    {
     "data": {
      "image/png": "[encoded data removed]",
      "text/plain": [
       "<Figure size 640x480 with 2 Axes>"
      ]
     },
     "metadata": {},
     "output_type": "display_data"
    }
   ],
   "source": [
    "# Predict the values from the validation dataset\n",
    "y_pred = model.predict(X_test)\n",
    "# Convert predictions classes to one hot vectors \n",
    "# Applying threshold\n",
    "threshold = 0.5\n",
    "y_class = (y_pred> threshold).astype(int)\n",
    "\n",
    "print(\"Predicted probabilities:\", y_pred)\n",
    "print(\"Predicted classes:\", y_class)\n",
    "# compute the confusion matrix\n",
    "confusion_mtx = confusion_matrix(y_test, y_class) \n",
    "# plot the confusion matrix\n",
    "\n",
    "# Displays the confusion matrix\n",
    "cm_display=ConfusionMatrixDisplay(confusion_mtx).plot()"
   ]
  }
 ],
 "metadata": {
  "kernelspec": {
   "display_name": "Python 3",
   "language": "python",
   "name": "python3"
  },
  "language_info": {
   "codemirror_mode": {
    "name": "ipython",
    "version": 3
   },
   "file_extension": ".py",
   "mimetype": "text/x-python",
   "name": "python",
   "nbconvert_exporter": "python",
   "pygments_lexer": "ipython3",
   "version": "3.11.8"
  }
 },
 "nbformat": 4,
 "nbformat_minor": 2
}
